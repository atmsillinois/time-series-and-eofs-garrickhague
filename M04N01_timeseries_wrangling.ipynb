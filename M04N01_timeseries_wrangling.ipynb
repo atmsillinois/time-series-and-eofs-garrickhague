{
  "cells": [
    {
      "cell_type": "markdown",
      "metadata": {
        "id": "_X9auZWcrNQE"
      },
      "source": [
        "# ATMS 523\n",
        "## Module 4 Notebook 1\n",
        "## Wrangling time series"
      ]
    },
    {
      "cell_type": "markdown",
      "metadata": {
        "id": "OMSN3NBOobQ5"
      },
      "source": [
        "### Combining datasets with pandas\n",
        "\n",
        "Here we will load a variety of climate datasets, and use pandas to unify the datasets for further analysis."
      ]
    },
    {
      "cell_type": "code",
      "execution_count": 1,
      "metadata": {
        "colab": {
          "base_uri": "https://localhost:8080/"
        },
        "id": "yq0wed6AyQ3N",
        "outputId": "ec980975-a9e2-4afe-aa89-39385f7cdbdf"
      },
      "outputs": [
        {
          "name": "stderr",
          "output_type": "stream",
          "text": [
            "/var/folders/xk/1h2bmhd16677hq_kztjppff80000gn/T/ipykernel_8745/1764835073.py:3: FutureWarning: The 'delim_whitespace' keyword in pd.read_csv is deprecated and will be removed in a future version. Use ``sep='\\s+'`` instead\n",
            "  enso = pd.read_csv('https://www.esrl.noaa.gov/psd/data/correlation/censo.data',delim_whitespace=True,header=None,skiprows=1,skipfooter=2, engine='python')\n",
            "/var/folders/xk/1h2bmhd16677hq_kztjppff80000gn/T/ipykernel_8745/1764835073.py:4: FutureWarning: The 'delim_whitespace' keyword in pd.read_csv is deprecated and will be removed in a future version. Use ``sep='\\s+'`` instead\n",
            "  pdo = pd.read_csv('https://www.esrl.noaa.gov/psd/data/correlation/pdo.data',delim_whitespace=True,header=None,skiprows=1,skipfooter=14, engine='python')\n",
            "/var/folders/xk/1h2bmhd16677hq_kztjppff80000gn/T/ipykernel_8745/1764835073.py:5: FutureWarning: The 'delim_whitespace' keyword in pd.read_csv is deprecated and will be removed in a future version. Use ``sep='\\s+'`` instead\n",
            "  nao = pd.read_csv('https://www.esrl.noaa.gov/psd/data/correlation/nao.data',delim_whitespace=True,header=None,skiprows=1,skipfooter=3, engine='python')\n",
            "/var/folders/xk/1h2bmhd16677hq_kztjppff80000gn/T/ipykernel_8745/1764835073.py:6: FutureWarning: The 'delim_whitespace' keyword in pd.read_csv is deprecated and will be removed in a future version. Use ``sep='\\s+'`` instead\n",
            "  ao = pd.read_csv('https://www.esrl.noaa.gov/psd/data/correlation/ao.data',delim_whitespace=True,header=None,skiprows=1,skipfooter=3, engine='python')\n"
          ]
        }
      ],
      "source": [
        "import pandas as pd\n",
        "\n",
        "enso = pd.read_csv('https://www.esrl.noaa.gov/psd/data/correlation/censo.data',delim_whitespace=True,header=None,skiprows=1,skipfooter=2, engine='python')\n",
        "pdo = pd.read_csv('https://www.esrl.noaa.gov/psd/data/correlation/pdo.data',delim_whitespace=True,header=None,skiprows=1,skipfooter=14, engine='python')\n",
        "nao = pd.read_csv('https://www.esrl.noaa.gov/psd/data/correlation/nao.data',delim_whitespace=True,header=None,skiprows=1,skipfooter=3, engine='python')\n",
        "ao = pd.read_csv('https://www.esrl.noaa.gov/psd/data/correlation/ao.data',delim_whitespace=True,header=None,skiprows=1,skipfooter=3, engine='python')"
      ]
    },
    {
      "cell_type": "code",
      "execution_count": 2,
      "metadata": {
        "colab": {
          "base_uri": "https://localhost:8080/",
          "height": 447
        },
        "id": "qlFHyzxM08aZ",
        "outputId": "a834e2d7-8227-4a2b-87b4-fe2722b4f137"
      },
      "outputs": [
        {
          "data": {
            "text/html": [
              "<div>\n",
              "<style scoped>\n",
              "    .dataframe tbody tr th:only-of-type {\n",
              "        vertical-align: middle;\n",
              "    }\n",
              "\n",
              "    .dataframe tbody tr th {\n",
              "        vertical-align: top;\n",
              "    }\n",
              "\n",
              "    .dataframe thead th {\n",
              "        text-align: right;\n",
              "    }\n",
              "</style>\n",
              "<table border=\"1\" class=\"dataframe\">\n",
              "  <thead>\n",
              "    <tr style=\"text-align: right;\">\n",
              "      <th></th>\n",
              "      <th>0</th>\n",
              "      <th>1</th>\n",
              "      <th>2</th>\n",
              "      <th>3</th>\n",
              "      <th>4</th>\n",
              "      <th>5</th>\n",
              "      <th>6</th>\n",
              "      <th>7</th>\n",
              "      <th>8</th>\n",
              "      <th>9</th>\n",
              "      <th>10</th>\n",
              "      <th>11</th>\n",
              "      <th>12</th>\n",
              "    </tr>\n",
              "  </thead>\n",
              "  <tbody>\n",
              "    <tr>\n",
              "      <th>0</th>\n",
              "      <td>1948</td>\n",
              "      <td>0.26</td>\n",
              "      <td>0.43</td>\n",
              "      <td>0.72</td>\n",
              "      <td>0.21</td>\n",
              "      <td>0.24</td>\n",
              "      <td>0.41</td>\n",
              "      <td>0.08</td>\n",
              "      <td>0.26</td>\n",
              "      <td>0.45</td>\n",
              "      <td>-0.64</td>\n",
              "      <td>-0.21</td>\n",
              "      <td>0.58</td>\n",
              "    </tr>\n",
              "    <tr>\n",
              "      <th>1</th>\n",
              "      <td>1949</td>\n",
              "      <td>0.18</td>\n",
              "      <td>0.13</td>\n",
              "      <td>-0.55</td>\n",
              "      <td>0.15</td>\n",
              "      <td>0.43</td>\n",
              "      <td>0.00</td>\n",
              "      <td>-0.06</td>\n",
              "      <td>0.08</td>\n",
              "      <td>-0.42</td>\n",
              "      <td>-0.59</td>\n",
              "      <td>-0.29</td>\n",
              "      <td>-0.91</td>\n",
              "    </tr>\n",
              "    <tr>\n",
              "      <th>2</th>\n",
              "      <td>1950</td>\n",
              "      <td>-0.74</td>\n",
              "      <td>-1.70</td>\n",
              "      <td>-1.43</td>\n",
              "      <td>-1.29</td>\n",
              "      <td>-1.22</td>\n",
              "      <td>-1.69</td>\n",
              "      <td>-1.69</td>\n",
              "      <td>-0.96</td>\n",
              "      <td>-0.95</td>\n",
              "      <td>-1.27</td>\n",
              "      <td>-1.12</td>\n",
              "      <td>-1.61</td>\n",
              "    </tr>\n",
              "    <tr>\n",
              "      <th>3</th>\n",
              "      <td>1951</td>\n",
              "      <td>-1.13</td>\n",
              "      <td>-0.69</td>\n",
              "      <td>-0.24</td>\n",
              "      <td>0.33</td>\n",
              "      <td>0.71</td>\n",
              "      <td>0.19</td>\n",
              "      <td>1.32</td>\n",
              "      <td>1.01</td>\n",
              "      <td>1.10</td>\n",
              "      <td>1.15</td>\n",
              "      <td>0.92</td>\n",
              "      <td>0.83</td>\n",
              "    </tr>\n",
              "    <tr>\n",
              "      <th>4</th>\n",
              "      <td>1952</td>\n",
              "      <td>0.64</td>\n",
              "      <td>0.56</td>\n",
              "      <td>0.07</td>\n",
              "      <td>0.71</td>\n",
              "      <td>-0.50</td>\n",
              "      <td>-0.74</td>\n",
              "      <td>-0.54</td>\n",
              "      <td>-0.12</td>\n",
              "      <td>-0.03</td>\n",
              "      <td>-0.06</td>\n",
              "      <td>-0.02</td>\n",
              "      <td>0.41</td>\n",
              "    </tr>\n",
              "    <tr>\n",
              "      <th>...</th>\n",
              "      <td>...</td>\n",
              "      <td>...</td>\n",
              "      <td>...</td>\n",
              "      <td>...</td>\n",
              "      <td>...</td>\n",
              "      <td>...</td>\n",
              "      <td>...</td>\n",
              "      <td>...</td>\n",
              "      <td>...</td>\n",
              "      <td>...</td>\n",
              "      <td>...</td>\n",
              "      <td>...</td>\n",
              "      <td>...</td>\n",
              "    </tr>\n",
              "    <tr>\n",
              "      <th>70</th>\n",
              "      <td>2018</td>\n",
              "      <td>-1.13</td>\n",
              "      <td>-0.04</td>\n",
              "      <td>-1.49</td>\n",
              "      <td>-0.62</td>\n",
              "      <td>-0.25</td>\n",
              "      <td>0.31</td>\n",
              "      <td>0.20</td>\n",
              "      <td>0.49</td>\n",
              "      <td>1.05</td>\n",
              "      <td>0.29</td>\n",
              "      <td>0.63</td>\n",
              "      <td>-0.23</td>\n",
              "    </tr>\n",
              "    <tr>\n",
              "      <th>71</th>\n",
              "      <td>2019</td>\n",
              "      <td>0.43</td>\n",
              "      <td>1.58</td>\n",
              "      <td>0.90</td>\n",
              "      <td>0.65</td>\n",
              "      <td>1.19</td>\n",
              "      <td>0.90</td>\n",
              "      <td>0.86</td>\n",
              "      <td>0.26</td>\n",
              "      <td>1.00</td>\n",
              "      <td>0.64</td>\n",
              "      <td>1.07</td>\n",
              "      <td>0.71</td>\n",
              "    </tr>\n",
              "    <tr>\n",
              "      <th>72</th>\n",
              "      <td>2020</td>\n",
              "      <td>0.18</td>\n",
              "      <td>0.25</td>\n",
              "      <td>0.42</td>\n",
              "      <td>0.35</td>\n",
              "      <td>-0.40</td>\n",
              "      <td>0.07</td>\n",
              "      <td>-0.26</td>\n",
              "      <td>-1.19</td>\n",
              "      <td>-1.03</td>\n",
              "      <td>-1.03</td>\n",
              "      <td>-1.08</td>\n",
              "      <td>-1.83</td>\n",
              "    </tr>\n",
              "    <tr>\n",
              "      <th>73</th>\n",
              "      <td>2021</td>\n",
              "      <td>-1.86</td>\n",
              "      <td>-1.84</td>\n",
              "      <td>-0.63</td>\n",
              "      <td>-0.59</td>\n",
              "      <td>-0.52</td>\n",
              "      <td>-0.15</td>\n",
              "      <td>-1.05</td>\n",
              "      <td>-0.62</td>\n",
              "      <td>-0.69</td>\n",
              "      <td>-1.00</td>\n",
              "      <td>-1.14</td>\n",
              "      <td>-1.61</td>\n",
              "    </tr>\n",
              "    <tr>\n",
              "      <th>74</th>\n",
              "      <td>2022</td>\n",
              "      <td>-0.75</td>\n",
              "      <td>-1.37</td>\n",
              "      <td>-1.79</td>\n",
              "      <td>-1.76</td>\n",
              "      <td>-1.98</td>\n",
              "      <td>-1.41</td>\n",
              "      <td>-0.95</td>\n",
              "      <td>-1.45</td>\n",
              "      <td>-1.79</td>\n",
              "      <td>-1.78</td>\n",
              "      <td>-0.63</td>\n",
              "      <td>-1.97</td>\n",
              "    </tr>\n",
              "  </tbody>\n",
              "</table>\n",
              "<p>75 rows × 13 columns</p>\n",
              "</div>"
            ],
            "text/plain": [
              "      0     1     2     3     4     5     6     7     8     9     10    11  \\\n",
              "0   1948  0.26  0.43  0.72  0.21  0.24  0.41  0.08  0.26  0.45 -0.64 -0.21   \n",
              "1   1949  0.18  0.13 -0.55  0.15  0.43  0.00 -0.06  0.08 -0.42 -0.59 -0.29   \n",
              "2   1950 -0.74 -1.70 -1.43 -1.29 -1.22 -1.69 -1.69 -0.96 -0.95 -1.27 -1.12   \n",
              "3   1951 -1.13 -0.69 -0.24  0.33  0.71  0.19  1.32  1.01  1.10  1.15  0.92   \n",
              "4   1952  0.64  0.56  0.07  0.71 -0.50 -0.74 -0.54 -0.12 -0.03 -0.06 -0.02   \n",
              "..   ...   ...   ...   ...   ...   ...   ...   ...   ...   ...   ...   ...   \n",
              "70  2018 -1.13 -0.04 -1.49 -0.62 -0.25  0.31  0.20  0.49  1.05  0.29  0.63   \n",
              "71  2019  0.43  1.58  0.90  0.65  1.19  0.90  0.86  0.26  1.00  0.64  1.07   \n",
              "72  2020  0.18  0.25  0.42  0.35 -0.40  0.07 -0.26 -1.19 -1.03 -1.03 -1.08   \n",
              "73  2021 -1.86 -1.84 -0.63 -0.59 -0.52 -0.15 -1.05 -0.62 -0.69 -1.00 -1.14   \n",
              "74  2022 -0.75 -1.37 -1.79 -1.76 -1.98 -1.41 -0.95 -1.45 -1.79 -1.78 -0.63   \n",
              "\n",
              "      12  \n",
              "0   0.58  \n",
              "1  -0.91  \n",
              "2  -1.61  \n",
              "3   0.83  \n",
              "4   0.41  \n",
              "..   ...  \n",
              "70 -0.23  \n",
              "71  0.71  \n",
              "72 -1.83  \n",
              "73 -1.61  \n",
              "74 -1.97  \n",
              "\n",
              "[75 rows x 13 columns]"
            ]
          },
          "execution_count": 2,
          "metadata": {},
          "output_type": "execute_result"
        }
      ],
      "source": [
        "enso.drop(75, inplace=True)\n",
        "\n",
        "enso"
      ]
    },
    {
      "cell_type": "code",
      "execution_count": 3,
      "metadata": {},
      "outputs": [
        {
          "data": {
            "text/html": [
              "<div>\n",
              "<style scoped>\n",
              "    .dataframe tbody tr th:only-of-type {\n",
              "        vertical-align: middle;\n",
              "    }\n",
              "\n",
              "    .dataframe tbody tr th {\n",
              "        vertical-align: top;\n",
              "    }\n",
              "\n",
              "    .dataframe thead th {\n",
              "        text-align: right;\n",
              "    }\n",
              "</style>\n",
              "<table border=\"1\" class=\"dataframe\">\n",
              "  <thead>\n",
              "    <tr style=\"text-align: right;\">\n",
              "      <th></th>\n",
              "      <th>0</th>\n",
              "      <th>1</th>\n",
              "      <th>2</th>\n",
              "      <th>3</th>\n",
              "      <th>4</th>\n",
              "      <th>5</th>\n",
              "      <th>6</th>\n",
              "      <th>7</th>\n",
              "      <th>8</th>\n",
              "      <th>9</th>\n",
              "      <th>10</th>\n",
              "      <th>11</th>\n",
              "      <th>12</th>\n",
              "    </tr>\n",
              "  </thead>\n",
              "  <tbody>\n",
              "    <tr>\n",
              "      <th>0</th>\n",
              "      <td>1948</td>\n",
              "      <td>-0.11</td>\n",
              "      <td>-0.74</td>\n",
              "      <td>-0.03</td>\n",
              "      <td>-1.33</td>\n",
              "      <td>-0.23</td>\n",
              "      <td>0.08</td>\n",
              "      <td>-0.92</td>\n",
              "      <td>-1.56</td>\n",
              "      <td>-1.74</td>\n",
              "      <td>-1.32</td>\n",
              "      <td>-0.89</td>\n",
              "      <td>-1.70</td>\n",
              "    </tr>\n",
              "    <tr>\n",
              "      <th>1</th>\n",
              "      <td>1949</td>\n",
              "      <td>-2.01</td>\n",
              "      <td>-3.60</td>\n",
              "      <td>-1.00</td>\n",
              "      <td>-0.53</td>\n",
              "      <td>-1.07</td>\n",
              "      <td>-0.70</td>\n",
              "      <td>-0.56</td>\n",
              "      <td>-1.30</td>\n",
              "      <td>-0.93</td>\n",
              "      <td>-1.41</td>\n",
              "      <td>-0.83</td>\n",
              "      <td>-0.80</td>\n",
              "    </tr>\n",
              "    <tr>\n",
              "      <th>2</th>\n",
              "      <td>1950</td>\n",
              "      <td>-2.13</td>\n",
              "      <td>-2.91</td>\n",
              "      <td>-1.13</td>\n",
              "      <td>-1.20</td>\n",
              "      <td>-2.23</td>\n",
              "      <td>-1.77</td>\n",
              "      <td>-2.93</td>\n",
              "      <td>-0.70</td>\n",
              "      <td>-2.14</td>\n",
              "      <td>-1.36</td>\n",
              "      <td>-2.46</td>\n",
              "      <td>-0.76</td>\n",
              "    </tr>\n",
              "    <tr>\n",
              "      <th>3</th>\n",
              "      <td>1951</td>\n",
              "      <td>-1.54</td>\n",
              "      <td>-1.06</td>\n",
              "      <td>-1.90</td>\n",
              "      <td>-0.36</td>\n",
              "      <td>-0.25</td>\n",
              "      <td>-1.09</td>\n",
              "      <td>0.70</td>\n",
              "      <td>-1.37</td>\n",
              "      <td>-0.08</td>\n",
              "      <td>-0.32</td>\n",
              "      <td>-0.28</td>\n",
              "      <td>-1.68</td>\n",
              "    </tr>\n",
              "    <tr>\n",
              "      <th>4</th>\n",
              "      <td>1952</td>\n",
              "      <td>-2.01</td>\n",
              "      <td>-0.46</td>\n",
              "      <td>-0.63</td>\n",
              "      <td>-1.05</td>\n",
              "      <td>-1.00</td>\n",
              "      <td>-1.43</td>\n",
              "      <td>-1.25</td>\n",
              "      <td>-0.60</td>\n",
              "      <td>-0.89</td>\n",
              "      <td>-0.35</td>\n",
              "      <td>-0.76</td>\n",
              "      <td>0.04</td>\n",
              "    </tr>\n",
              "    <tr>\n",
              "      <th>...</th>\n",
              "      <td>...</td>\n",
              "      <td>...</td>\n",
              "      <td>...</td>\n",
              "      <td>...</td>\n",
              "      <td>...</td>\n",
              "      <td>...</td>\n",
              "      <td>...</td>\n",
              "      <td>...</td>\n",
              "      <td>...</td>\n",
              "      <td>...</td>\n",
              "      <td>...</td>\n",
              "      <td>...</td>\n",
              "      <td>...</td>\n",
              "    </tr>\n",
              "    <tr>\n",
              "      <th>70</th>\n",
              "      <td>2018</td>\n",
              "      <td>0.70</td>\n",
              "      <td>0.37</td>\n",
              "      <td>-0.05</td>\n",
              "      <td>0.11</td>\n",
              "      <td>0.11</td>\n",
              "      <td>-0.04</td>\n",
              "      <td>0.11</td>\n",
              "      <td>0.18</td>\n",
              "      <td>0.09</td>\n",
              "      <td>0.26</td>\n",
              "      <td>-0.05</td>\n",
              "      <td>0.52</td>\n",
              "    </tr>\n",
              "    <tr>\n",
              "      <th>71</th>\n",
              "      <td>2019</td>\n",
              "      <td>0.66</td>\n",
              "      <td>0.46</td>\n",
              "      <td>0.37</td>\n",
              "      <td>1.07</td>\n",
              "      <td>1.03</td>\n",
              "      <td>1.09</td>\n",
              "      <td>1.03</td>\n",
              "      <td>0.38</td>\n",
              "      <td>0.41</td>\n",
              "      <td>-0.45</td>\n",
              "      <td>0.15</td>\n",
              "      <td>0.97</td>\n",
              "    </tr>\n",
              "    <tr>\n",
              "      <th>72</th>\n",
              "      <td>2020</td>\n",
              "      <td>-0.23</td>\n",
              "      <td>-0.68</td>\n",
              "      <td>-0.82</td>\n",
              "      <td>-0.57</td>\n",
              "      <td>0.09</td>\n",
              "      <td>-0.08</td>\n",
              "      <td>-0.38</td>\n",
              "      <td>-0.28</td>\n",
              "      <td>-0.70</td>\n",
              "      <td>-0.69</td>\n",
              "      <td>-1.12</td>\n",
              "      <td>-0.90</td>\n",
              "    </tr>\n",
              "    <tr>\n",
              "      <th>73</th>\n",
              "      <td>2021</td>\n",
              "      <td>-0.16</td>\n",
              "      <td>-0.54</td>\n",
              "      <td>-1.17</td>\n",
              "      <td>-0.91</td>\n",
              "      <td>-0.94</td>\n",
              "      <td>-1.18</td>\n",
              "      <td>-1.87</td>\n",
              "      <td>-1.12</td>\n",
              "      <td>-1.53</td>\n",
              "      <td>-2.55</td>\n",
              "      <td>-2.52</td>\n",
              "      <td>-2.00</td>\n",
              "    </tr>\n",
              "    <tr>\n",
              "      <th>74</th>\n",
              "      <td>2022</td>\n",
              "      <td>-1.24</td>\n",
              "      <td>-1.08</td>\n",
              "      <td>-1.00</td>\n",
              "      <td>-1.51</td>\n",
              "      <td>-1.92</td>\n",
              "      <td>-1.21</td>\n",
              "      <td>-9.90</td>\n",
              "      <td>-9.90</td>\n",
              "      <td>-9.90</td>\n",
              "      <td>-9.90</td>\n",
              "      <td>-9.90</td>\n",
              "      <td>-9.90</td>\n",
              "    </tr>\n",
              "  </tbody>\n",
              "</table>\n",
              "<p>75 rows × 13 columns</p>\n",
              "</div>"
            ],
            "text/plain": [
              "      0     1     2     3     4     5     6     7     8     9     10    11  \\\n",
              "0   1948 -0.11 -0.74 -0.03 -1.33 -0.23  0.08 -0.92 -1.56 -1.74 -1.32 -0.89   \n",
              "1   1949 -2.01 -3.60 -1.00 -0.53 -1.07 -0.70 -0.56 -1.30 -0.93 -1.41 -0.83   \n",
              "2   1950 -2.13 -2.91 -1.13 -1.20 -2.23 -1.77 -2.93 -0.70 -2.14 -1.36 -2.46   \n",
              "3   1951 -1.54 -1.06 -1.90 -0.36 -0.25 -1.09  0.70 -1.37 -0.08 -0.32 -0.28   \n",
              "4   1952 -2.01 -0.46 -0.63 -1.05 -1.00 -1.43 -1.25 -0.60 -0.89 -0.35 -0.76   \n",
              "..   ...   ...   ...   ...   ...   ...   ...   ...   ...   ...   ...   ...   \n",
              "70  2018  0.70  0.37 -0.05  0.11  0.11 -0.04  0.11  0.18  0.09  0.26 -0.05   \n",
              "71  2019  0.66  0.46  0.37  1.07  1.03  1.09  1.03  0.38  0.41 -0.45  0.15   \n",
              "72  2020 -0.23 -0.68 -0.82 -0.57  0.09 -0.08 -0.38 -0.28 -0.70 -0.69 -1.12   \n",
              "73  2021 -0.16 -0.54 -1.17 -0.91 -0.94 -1.18 -1.87 -1.12 -1.53 -2.55 -2.52   \n",
              "74  2022 -1.24 -1.08 -1.00 -1.51 -1.92 -1.21 -9.90 -9.90 -9.90 -9.90 -9.90   \n",
              "\n",
              "      12  \n",
              "0  -1.70  \n",
              "1  -0.80  \n",
              "2  -0.76  \n",
              "3  -1.68  \n",
              "4   0.04  \n",
              "..   ...  \n",
              "70  0.52  \n",
              "71  0.97  \n",
              "72 -0.90  \n",
              "73 -2.00  \n",
              "74 -9.90  \n",
              "\n",
              "[75 rows x 13 columns]"
            ]
          },
          "execution_count": 3,
          "metadata": {},
          "output_type": "execute_result"
        }
      ],
      "source": [
        "pdo"
      ]
    },
    {
      "cell_type": "code",
      "execution_count": 4,
      "metadata": {},
      "outputs": [
        {
          "data": {
            "text/html": [
              "<div>\n",
              "<style scoped>\n",
              "    .dataframe tbody tr th:only-of-type {\n",
              "        vertical-align: middle;\n",
              "    }\n",
              "\n",
              "    .dataframe tbody tr th {\n",
              "        vertical-align: top;\n",
              "    }\n",
              "\n",
              "    .dataframe thead th {\n",
              "        text-align: right;\n",
              "    }\n",
              "</style>\n",
              "<table border=\"1\" class=\"dataframe\">\n",
              "  <thead>\n",
              "    <tr style=\"text-align: right;\">\n",
              "      <th></th>\n",
              "      <th>0</th>\n",
              "      <th>1</th>\n",
              "      <th>2</th>\n",
              "      <th>3</th>\n",
              "      <th>4</th>\n",
              "      <th>5</th>\n",
              "      <th>6</th>\n",
              "      <th>7</th>\n",
              "      <th>8</th>\n",
              "      <th>9</th>\n",
              "      <th>10</th>\n",
              "      <th>11</th>\n",
              "      <th>12</th>\n",
              "    </tr>\n",
              "  </thead>\n",
              "  <tbody>\n",
              "    <tr>\n",
              "      <th>0</th>\n",
              "      <td>1948</td>\n",
              "      <td>-99.90</td>\n",
              "      <td>-99.90</td>\n",
              "      <td>-99.90</td>\n",
              "      <td>-99.90</td>\n",
              "      <td>-99.90</td>\n",
              "      <td>-99.90</td>\n",
              "      <td>-99.90</td>\n",
              "      <td>-99.90</td>\n",
              "      <td>-99.90</td>\n",
              "      <td>-99.90</td>\n",
              "      <td>-99.90</td>\n",
              "      <td>-99.90</td>\n",
              "    </tr>\n",
              "    <tr>\n",
              "      <th>1</th>\n",
              "      <td>1949</td>\n",
              "      <td>-99.90</td>\n",
              "      <td>-99.90</td>\n",
              "      <td>-99.90</td>\n",
              "      <td>-99.90</td>\n",
              "      <td>-99.90</td>\n",
              "      <td>-99.90</td>\n",
              "      <td>-99.90</td>\n",
              "      <td>-99.90</td>\n",
              "      <td>-99.90</td>\n",
              "      <td>-99.90</td>\n",
              "      <td>-99.90</td>\n",
              "      <td>-99.90</td>\n",
              "    </tr>\n",
              "    <tr>\n",
              "      <th>2</th>\n",
              "      <td>1950</td>\n",
              "      <td>0.56</td>\n",
              "      <td>0.01</td>\n",
              "      <td>-0.78</td>\n",
              "      <td>0.65</td>\n",
              "      <td>-0.50</td>\n",
              "      <td>0.25</td>\n",
              "      <td>-1.23</td>\n",
              "      <td>-0.19</td>\n",
              "      <td>0.39</td>\n",
              "      <td>1.43</td>\n",
              "      <td>-1.46</td>\n",
              "      <td>-1.03</td>\n",
              "    </tr>\n",
              "    <tr>\n",
              "      <th>3</th>\n",
              "      <td>1951</td>\n",
              "      <td>-0.42</td>\n",
              "      <td>0.35</td>\n",
              "      <td>-1.47</td>\n",
              "      <td>-0.38</td>\n",
              "      <td>-0.50</td>\n",
              "      <td>-1.35</td>\n",
              "      <td>1.39</td>\n",
              "      <td>-0.41</td>\n",
              "      <td>-1.18</td>\n",
              "      <td>2.54</td>\n",
              "      <td>-0.54</td>\n",
              "      <td>1.13</td>\n",
              "    </tr>\n",
              "    <tr>\n",
              "      <th>4</th>\n",
              "      <td>1952</td>\n",
              "      <td>0.57</td>\n",
              "      <td>-1.38</td>\n",
              "      <td>-1.97</td>\n",
              "      <td>0.95</td>\n",
              "      <td>-0.99</td>\n",
              "      <td>-0.10</td>\n",
              "      <td>-0.06</td>\n",
              "      <td>-0.49</td>\n",
              "      <td>-0.38</td>\n",
              "      <td>-0.28</td>\n",
              "      <td>-1.32</td>\n",
              "      <td>-0.49</td>\n",
              "    </tr>\n",
              "    <tr>\n",
              "      <th>...</th>\n",
              "      <td>...</td>\n",
              "      <td>...</td>\n",
              "      <td>...</td>\n",
              "      <td>...</td>\n",
              "      <td>...</td>\n",
              "      <td>...</td>\n",
              "      <td>...</td>\n",
              "      <td>...</td>\n",
              "      <td>...</td>\n",
              "      <td>...</td>\n",
              "      <td>...</td>\n",
              "      <td>...</td>\n",
              "      <td>...</td>\n",
              "    </tr>\n",
              "    <tr>\n",
              "      <th>70</th>\n",
              "      <td>2018</td>\n",
              "      <td>1.17</td>\n",
              "      <td>1.34</td>\n",
              "      <td>-1.38</td>\n",
              "      <td>1.20</td>\n",
              "      <td>2.02</td>\n",
              "      <td>1.41</td>\n",
              "      <td>1.42</td>\n",
              "      <td>2.40</td>\n",
              "      <td>1.78</td>\n",
              "      <td>1.53</td>\n",
              "      <td>-0.25</td>\n",
              "      <td>0.48</td>\n",
              "    </tr>\n",
              "    <tr>\n",
              "      <th>71</th>\n",
              "      <td>2019</td>\n",
              "      <td>0.18</td>\n",
              "      <td>-0.11</td>\n",
              "      <td>0.89</td>\n",
              "      <td>0.36</td>\n",
              "      <td>-2.38</td>\n",
              "      <td>-0.79</td>\n",
              "      <td>-1.39</td>\n",
              "      <td>-1.62</td>\n",
              "      <td>-0.01</td>\n",
              "      <td>-1.03</td>\n",
              "      <td>0.16</td>\n",
              "      <td>1.02</td>\n",
              "    </tr>\n",
              "    <tr>\n",
              "      <th>72</th>\n",
              "      <td>2020</td>\n",
              "      <td>1.05</td>\n",
              "      <td>0.98</td>\n",
              "      <td>0.66</td>\n",
              "      <td>-1.26</td>\n",
              "      <td>-0.33</td>\n",
              "      <td>0.16</td>\n",
              "      <td>-1.19</td>\n",
              "      <td>0.03</td>\n",
              "      <td>1.11</td>\n",
              "      <td>-0.20</td>\n",
              "      <td>2.54</td>\n",
              "      <td>-0.37</td>\n",
              "    </tr>\n",
              "    <tr>\n",
              "      <th>73</th>\n",
              "      <td>2021</td>\n",
              "      <td>-1.80</td>\n",
              "      <td>-0.29</td>\n",
              "      <td>0.36</td>\n",
              "      <td>-1.69</td>\n",
              "      <td>-1.10</td>\n",
              "      <td>1.08</td>\n",
              "      <td>0.06</td>\n",
              "      <td>-0.49</td>\n",
              "      <td>-0.06</td>\n",
              "      <td>-1.98</td>\n",
              "      <td>-0.33</td>\n",
              "      <td>0.18</td>\n",
              "    </tr>\n",
              "    <tr>\n",
              "      <th>74</th>\n",
              "      <td>2022</td>\n",
              "      <td>0.74</td>\n",
              "      <td>1.46</td>\n",
              "      <td>0.40</td>\n",
              "      <td>-0.54</td>\n",
              "      <td>0.71</td>\n",
              "      <td>0.19</td>\n",
              "      <td>-0.06</td>\n",
              "      <td>1.76</td>\n",
              "      <td>-1.42</td>\n",
              "      <td>-0.27</td>\n",
              "      <td>0.59</td>\n",
              "      <td>-0.22</td>\n",
              "    </tr>\n",
              "  </tbody>\n",
              "</table>\n",
              "<p>75 rows × 13 columns</p>\n",
              "</div>"
            ],
            "text/plain": [
              "      0      1      2      3      4      5      6      7      8      9   \\\n",
              "0   1948 -99.90 -99.90 -99.90 -99.90 -99.90 -99.90 -99.90 -99.90 -99.90   \n",
              "1   1949 -99.90 -99.90 -99.90 -99.90 -99.90 -99.90 -99.90 -99.90 -99.90   \n",
              "2   1950   0.56   0.01  -0.78   0.65  -0.50   0.25  -1.23  -0.19   0.39   \n",
              "3   1951  -0.42   0.35  -1.47  -0.38  -0.50  -1.35   1.39  -0.41  -1.18   \n",
              "4   1952   0.57  -1.38  -1.97   0.95  -0.99  -0.10  -0.06  -0.49  -0.38   \n",
              "..   ...    ...    ...    ...    ...    ...    ...    ...    ...    ...   \n",
              "70  2018   1.17   1.34  -1.38   1.20   2.02   1.41   1.42   2.40   1.78   \n",
              "71  2019   0.18  -0.11   0.89   0.36  -2.38  -0.79  -1.39  -1.62  -0.01   \n",
              "72  2020   1.05   0.98   0.66  -1.26  -0.33   0.16  -1.19   0.03   1.11   \n",
              "73  2021  -1.80  -0.29   0.36  -1.69  -1.10   1.08   0.06  -0.49  -0.06   \n",
              "74  2022   0.74   1.46   0.40  -0.54   0.71   0.19  -0.06   1.76  -1.42   \n",
              "\n",
              "       10     11     12  \n",
              "0  -99.90 -99.90 -99.90  \n",
              "1  -99.90 -99.90 -99.90  \n",
              "2    1.43  -1.46  -1.03  \n",
              "3    2.54  -0.54   1.13  \n",
              "4   -0.28  -1.32  -0.49  \n",
              "..    ...    ...    ...  \n",
              "70   1.53  -0.25   0.48  \n",
              "71  -1.03   0.16   1.02  \n",
              "72  -0.20   2.54  -0.37  \n",
              "73  -1.98  -0.33   0.18  \n",
              "74  -0.27   0.59  -0.22  \n",
              "\n",
              "[75 rows x 13 columns]"
            ]
          },
          "execution_count": 4,
          "metadata": {},
          "output_type": "execute_result"
        }
      ],
      "source": [
        "nao.drop([75, 76], inplace=True)\n",
        "nao"
      ]
    },
    {
      "cell_type": "code",
      "execution_count": 5,
      "metadata": {},
      "outputs": [
        {
          "data": {
            "text/html": [
              "<div>\n",
              "<style scoped>\n",
              "    .dataframe tbody tr th:only-of-type {\n",
              "        vertical-align: middle;\n",
              "    }\n",
              "\n",
              "    .dataframe tbody tr th {\n",
              "        vertical-align: top;\n",
              "    }\n",
              "\n",
              "    .dataframe thead th {\n",
              "        text-align: right;\n",
              "    }\n",
              "</style>\n",
              "<table border=\"1\" class=\"dataframe\">\n",
              "  <thead>\n",
              "    <tr style=\"text-align: right;\">\n",
              "      <th></th>\n",
              "      <th>0</th>\n",
              "      <th>1</th>\n",
              "      <th>2</th>\n",
              "      <th>3</th>\n",
              "      <th>4</th>\n",
              "      <th>5</th>\n",
              "      <th>6</th>\n",
              "      <th>7</th>\n",
              "      <th>8</th>\n",
              "      <th>9</th>\n",
              "      <th>10</th>\n",
              "      <th>11</th>\n",
              "      <th>12</th>\n",
              "    </tr>\n",
              "  </thead>\n",
              "  <tbody>\n",
              "    <tr>\n",
              "      <th>0</th>\n",
              "      <td>1950</td>\n",
              "      <td>-0.060</td>\n",
              "      <td>0.627</td>\n",
              "      <td>-0.008</td>\n",
              "      <td>0.555</td>\n",
              "      <td>0.072</td>\n",
              "      <td>0.539</td>\n",
              "      <td>-0.802</td>\n",
              "      <td>-0.851</td>\n",
              "      <td>0.358</td>\n",
              "      <td>-0.379</td>\n",
              "      <td>-0.515</td>\n",
              "      <td>-1.928</td>\n",
              "    </tr>\n",
              "    <tr>\n",
              "      <th>1</th>\n",
              "      <td>1951</td>\n",
              "      <td>-0.085</td>\n",
              "      <td>-0.400</td>\n",
              "      <td>-1.934</td>\n",
              "      <td>-0.776</td>\n",
              "      <td>-0.863</td>\n",
              "      <td>-0.918</td>\n",
              "      <td>0.090</td>\n",
              "      <td>-0.377</td>\n",
              "      <td>-0.818</td>\n",
              "      <td>-0.213</td>\n",
              "      <td>-0.069</td>\n",
              "      <td>1.987</td>\n",
              "    </tr>\n",
              "    <tr>\n",
              "      <th>2</th>\n",
              "      <td>1952</td>\n",
              "      <td>0.368</td>\n",
              "      <td>-1.747</td>\n",
              "      <td>-1.860</td>\n",
              "      <td>0.538</td>\n",
              "      <td>-0.773</td>\n",
              "      <td>-0.441</td>\n",
              "      <td>0.383</td>\n",
              "      <td>-0.030</td>\n",
              "      <td>-0.383</td>\n",
              "      <td>-0.437</td>\n",
              "      <td>-1.891</td>\n",
              "      <td>-1.827</td>\n",
              "    </tr>\n",
              "    <tr>\n",
              "      <th>3</th>\n",
              "      <td>1953</td>\n",
              "      <td>-1.036</td>\n",
              "      <td>-0.249</td>\n",
              "      <td>1.068</td>\n",
              "      <td>-1.256</td>\n",
              "      <td>-0.562</td>\n",
              "      <td>0.022</td>\n",
              "      <td>0.333</td>\n",
              "      <td>0.085</td>\n",
              "      <td>0.662</td>\n",
              "      <td>-0.195</td>\n",
              "      <td>0.354</td>\n",
              "      <td>0.576</td>\n",
              "    </tr>\n",
              "    <tr>\n",
              "      <th>4</th>\n",
              "      <td>1954</td>\n",
              "      <td>-0.148</td>\n",
              "      <td>-0.181</td>\n",
              "      <td>0.476</td>\n",
              "      <td>0.512</td>\n",
              "      <td>-1.656</td>\n",
              "      <td>-0.268</td>\n",
              "      <td>0.341</td>\n",
              "      <td>-0.122</td>\n",
              "      <td>0.301</td>\n",
              "      <td>0.513</td>\n",
              "      <td>-0.328</td>\n",
              "      <td>0.553</td>\n",
              "    </tr>\n",
              "    <tr>\n",
              "      <th>...</th>\n",
              "      <td>...</td>\n",
              "      <td>...</td>\n",
              "      <td>...</td>\n",
              "      <td>...</td>\n",
              "      <td>...</td>\n",
              "      <td>...</td>\n",
              "      <td>...</td>\n",
              "      <td>...</td>\n",
              "      <td>...</td>\n",
              "      <td>...</td>\n",
              "      <td>...</td>\n",
              "      <td>...</td>\n",
              "      <td>...</td>\n",
              "    </tr>\n",
              "    <tr>\n",
              "      <th>68</th>\n",
              "      <td>2018</td>\n",
              "      <td>-0.281</td>\n",
              "      <td>0.113</td>\n",
              "      <td>-0.941</td>\n",
              "      <td>0.544</td>\n",
              "      <td>1.180</td>\n",
              "      <td>0.380</td>\n",
              "      <td>0.612</td>\n",
              "      <td>0.836</td>\n",
              "      <td>0.585</td>\n",
              "      <td>0.413</td>\n",
              "      <td>-1.116</td>\n",
              "      <td>0.110</td>\n",
              "    </tr>\n",
              "    <tr>\n",
              "      <th>69</th>\n",
              "      <td>2019</td>\n",
              "      <td>-0.713</td>\n",
              "      <td>1.149</td>\n",
              "      <td>2.116</td>\n",
              "      <td>-0.255</td>\n",
              "      <td>-1.231</td>\n",
              "      <td>-0.601</td>\n",
              "      <td>-0.890</td>\n",
              "      <td>-0.722</td>\n",
              "      <td>0.306</td>\n",
              "      <td>-0.082</td>\n",
              "      <td>-1.193</td>\n",
              "      <td>0.412</td>\n",
              "    </tr>\n",
              "    <tr>\n",
              "      <th>70</th>\n",
              "      <td>2020</td>\n",
              "      <td>2.419</td>\n",
              "      <td>3.417</td>\n",
              "      <td>2.641</td>\n",
              "      <td>0.928</td>\n",
              "      <td>-0.027</td>\n",
              "      <td>-0.122</td>\n",
              "      <td>-0.412</td>\n",
              "      <td>-0.381</td>\n",
              "      <td>0.631</td>\n",
              "      <td>-0.072</td>\n",
              "      <td>2.086</td>\n",
              "      <td>-1.736</td>\n",
              "    </tr>\n",
              "    <tr>\n",
              "      <th>71</th>\n",
              "      <td>2021</td>\n",
              "      <td>-2.484</td>\n",
              "      <td>-1.191</td>\n",
              "      <td>2.109</td>\n",
              "      <td>-0.204</td>\n",
              "      <td>-0.161</td>\n",
              "      <td>0.845</td>\n",
              "      <td>0.630</td>\n",
              "      <td>-0.209</td>\n",
              "      <td>-0.252</td>\n",
              "      <td>-0.146</td>\n",
              "      <td>0.093</td>\n",
              "      <td>0.198</td>\n",
              "    </tr>\n",
              "    <tr>\n",
              "      <th>72</th>\n",
              "      <td>2022</td>\n",
              "      <td>0.848</td>\n",
              "      <td>1.544</td>\n",
              "      <td>0.305</td>\n",
              "      <td>-0.603</td>\n",
              "      <td>1.224</td>\n",
              "      <td>-0.074</td>\n",
              "      <td>0.025</td>\n",
              "      <td>-0.170</td>\n",
              "      <td>-0.655</td>\n",
              "      <td>1.346</td>\n",
              "      <td>0.339</td>\n",
              "      <td>-2.719</td>\n",
              "    </tr>\n",
              "  </tbody>\n",
              "</table>\n",
              "<p>73 rows × 13 columns</p>\n",
              "</div>"
            ],
            "text/plain": [
              "      0      1      2      3      4      5      6      7      8      9   \\\n",
              "0   1950 -0.060  0.627 -0.008  0.555  0.072  0.539 -0.802 -0.851  0.358   \n",
              "1   1951 -0.085 -0.400 -1.934 -0.776 -0.863 -0.918  0.090 -0.377 -0.818   \n",
              "2   1952  0.368 -1.747 -1.860  0.538 -0.773 -0.441  0.383 -0.030 -0.383   \n",
              "3   1953 -1.036 -0.249  1.068 -1.256 -0.562  0.022  0.333  0.085  0.662   \n",
              "4   1954 -0.148 -0.181  0.476  0.512 -1.656 -0.268  0.341 -0.122  0.301   \n",
              "..   ...    ...    ...    ...    ...    ...    ...    ...    ...    ...   \n",
              "68  2018 -0.281  0.113 -0.941  0.544  1.180  0.380  0.612  0.836  0.585   \n",
              "69  2019 -0.713  1.149  2.116 -0.255 -1.231 -0.601 -0.890 -0.722  0.306   \n",
              "70  2020  2.419  3.417  2.641  0.928 -0.027 -0.122 -0.412 -0.381  0.631   \n",
              "71  2021 -2.484 -1.191  2.109 -0.204 -0.161  0.845  0.630 -0.209 -0.252   \n",
              "72  2022  0.848  1.544  0.305 -0.603  1.224 -0.074  0.025 -0.170 -0.655   \n",
              "\n",
              "       10     11     12  \n",
              "0  -0.379 -0.515 -1.928  \n",
              "1  -0.213 -0.069  1.987  \n",
              "2  -0.437 -1.891 -1.827  \n",
              "3  -0.195  0.354  0.576  \n",
              "4   0.513 -0.328  0.553  \n",
              "..    ...    ...    ...  \n",
              "68  0.413 -1.116  0.110  \n",
              "69 -0.082 -1.193  0.412  \n",
              "70 -0.072  2.086 -1.736  \n",
              "71 -0.146  0.093  0.198  \n",
              "72  1.346  0.339 -2.719  \n",
              "\n",
              "[73 rows x 13 columns]"
            ]
          },
          "execution_count": 5,
          "metadata": {},
          "output_type": "execute_result"
        }
      ],
      "source": [
        "ao.drop([73,74], inplace=True)\n",
        "\n",
        "ao"
      ]
    },
    {
      "cell_type": "markdown",
      "metadata": {
        "id": "rdd0rC4K1hMW"
      },
      "source": [
        "Take a look at the dataframes, note how they are formatted and if there are any issues with the values (missing data, etc.)."
      ]
    },
    {
      "cell_type": "markdown",
      "metadata": {
        "id": "VLxGBOjr10j8"
      },
      "source": [
        "Now that we have read in the data, it's time to get them into a format that we can use with pandas.  Time series should be a single column, with a date column with a value of each index in each row.\n",
        "\n",
        "We'll approach this by creating a new data frame and reformatting the 12 x nyears array to a 1 x nobservations array corresponding with each date.\n",
        "\n",
        "Let's start with ENSO."
      ]
    },
    {
      "cell_type": "code",
      "execution_count": 6,
      "metadata": {
        "id": "EDEbqaKe24Eg"
      },
      "outputs": [],
      "source": [
        "enso_new=pd.DataFrame()\n"
      ]
    },
    {
      "cell_type": "code",
      "execution_count": 7,
      "metadata": {
        "colab": {
          "base_uri": "https://localhost:8080/",
          "height": 52
        },
        "id": "48CfeN2x9l2K",
        "outputId": "7bce10d5-65dd-4ac5-fc0f-b75e032f04b4"
      },
      "outputs": [
        {
          "data": {
            "text/html": [
              "<div>\n",
              "<style scoped>\n",
              "    .dataframe tbody tr th:only-of-type {\n",
              "        vertical-align: middle;\n",
              "    }\n",
              "\n",
              "    .dataframe tbody tr th {\n",
              "        vertical-align: top;\n",
              "    }\n",
              "\n",
              "    .dataframe thead th {\n",
              "        text-align: right;\n",
              "    }\n",
              "</style>\n",
              "<table border=\"1\" class=\"dataframe\">\n",
              "  <thead>\n",
              "    <tr style=\"text-align: right;\">\n",
              "      <th></th>\n",
              "    </tr>\n",
              "  </thead>\n",
              "  <tbody>\n",
              "  </tbody>\n",
              "</table>\n",
              "</div>"
            ],
            "text/plain": [
              "Empty DataFrame\n",
              "Columns: []\n",
              "Index: []"
            ]
          },
          "execution_count": 7,
          "metadata": {},
          "output_type": "execute_result"
        }
      ],
      "source": [
        "enso_new"
      ]
    },
    {
      "cell_type": "markdown",
      "metadata": {
        "id": "-6qzie2F2510"
      },
      "source": [
        "Let's create an ENSO 'Date' column that has a Datetime Index.  The pandas DatetimeIndex can be used to generate dates with a given frequency."
      ]
    },
    {
      "cell_type": "code",
      "execution_count": 8,
      "metadata": {
        "colab": {
          "base_uri": "https://localhost:8080/"
        },
        "id": "zkrQcKGj3H5q",
        "outputId": "39b13384-96f6-4a4b-ab54-71583a9ebbc7"
      },
      "outputs": [],
      "source": [
        "enso_new['Date']=pd.date_range(start=pd.Timestamp(1948,1,1),end=pd.Timestamp(2022,12,1),freq=\"MS\")\n",
        "\n",
        "enso_new = enso_new.set_index('Date')"
      ]
    },
    {
      "cell_type": "code",
      "execution_count": 9,
      "metadata": {
        "colab": {
          "base_uri": "https://localhost:8080/",
          "height": 461
        },
        "id": "euq43rZkg7XP",
        "outputId": "2dc44eed-5d9c-4d6c-c4ce-7b139956c3ac"
      },
      "outputs": [
        {
          "data": {
            "text/html": [
              "<div>\n",
              "<style scoped>\n",
              "    .dataframe tbody tr th:only-of-type {\n",
              "        vertical-align: middle;\n",
              "    }\n",
              "\n",
              "    .dataframe tbody tr th {\n",
              "        vertical-align: top;\n",
              "    }\n",
              "\n",
              "    .dataframe thead th {\n",
              "        text-align: right;\n",
              "    }\n",
              "</style>\n",
              "<table border=\"1\" class=\"dataframe\">\n",
              "  <thead>\n",
              "    <tr style=\"text-align: right;\">\n",
              "      <th></th>\n",
              "    </tr>\n",
              "    <tr>\n",
              "      <th>Date</th>\n",
              "    </tr>\n",
              "  </thead>\n",
              "  <tbody>\n",
              "    <tr>\n",
              "      <th>1948-01-01</th>\n",
              "    </tr>\n",
              "    <tr>\n",
              "      <th>1948-02-01</th>\n",
              "    </tr>\n",
              "    <tr>\n",
              "      <th>1948-03-01</th>\n",
              "    </tr>\n",
              "    <tr>\n",
              "      <th>1948-04-01</th>\n",
              "    </tr>\n",
              "    <tr>\n",
              "      <th>1948-05-01</th>\n",
              "    </tr>\n",
              "    <tr>\n",
              "      <th>...</th>\n",
              "    </tr>\n",
              "    <tr>\n",
              "      <th>2022-08-01</th>\n",
              "    </tr>\n",
              "    <tr>\n",
              "      <th>2022-09-01</th>\n",
              "    </tr>\n",
              "    <tr>\n",
              "      <th>2022-10-01</th>\n",
              "    </tr>\n",
              "    <tr>\n",
              "      <th>2022-11-01</th>\n",
              "    </tr>\n",
              "    <tr>\n",
              "      <th>2022-12-01</th>\n",
              "    </tr>\n",
              "  </tbody>\n",
              "</table>\n",
              "<p>900 rows × 0 columns</p>\n",
              "</div>"
            ],
            "text/plain": [
              "Empty DataFrame\n",
              "Columns: []\n",
              "Index: [1948-01-01 00:00:00, 1948-02-01 00:00:00, 1948-03-01 00:00:00, 1948-04-01 00:00:00, 1948-05-01 00:00:00, 1948-06-01 00:00:00, 1948-07-01 00:00:00, 1948-08-01 00:00:00, 1948-09-01 00:00:00, 1948-10-01 00:00:00, 1948-11-01 00:00:00, 1948-12-01 00:00:00, 1949-01-01 00:00:00, 1949-02-01 00:00:00, 1949-03-01 00:00:00, 1949-04-01 00:00:00, 1949-05-01 00:00:00, 1949-06-01 00:00:00, 1949-07-01 00:00:00, 1949-08-01 00:00:00, 1949-09-01 00:00:00, 1949-10-01 00:00:00, 1949-11-01 00:00:00, 1949-12-01 00:00:00, 1950-01-01 00:00:00, 1950-02-01 00:00:00, 1950-03-01 00:00:00, 1950-04-01 00:00:00, 1950-05-01 00:00:00, 1950-06-01 00:00:00, 1950-07-01 00:00:00, 1950-08-01 00:00:00, 1950-09-01 00:00:00, 1950-10-01 00:00:00, 1950-11-01 00:00:00, 1950-12-01 00:00:00, 1951-01-01 00:00:00, 1951-02-01 00:00:00, 1951-03-01 00:00:00, 1951-04-01 00:00:00, 1951-05-01 00:00:00, 1951-06-01 00:00:00, 1951-07-01 00:00:00, 1951-08-01 00:00:00, 1951-09-01 00:00:00, 1951-10-01 00:00:00, 1951-11-01 00:00:00, 1951-12-01 00:00:00, 1952-01-01 00:00:00, 1952-02-01 00:00:00, 1952-03-01 00:00:00, 1952-04-01 00:00:00, 1952-05-01 00:00:00, 1952-06-01 00:00:00, 1952-07-01 00:00:00, 1952-08-01 00:00:00, 1952-09-01 00:00:00, 1952-10-01 00:00:00, 1952-11-01 00:00:00, 1952-12-01 00:00:00, 1953-01-01 00:00:00, 1953-02-01 00:00:00, 1953-03-01 00:00:00, 1953-04-01 00:00:00, 1953-05-01 00:00:00, 1953-06-01 00:00:00, 1953-07-01 00:00:00, 1953-08-01 00:00:00, 1953-09-01 00:00:00, 1953-10-01 00:00:00, 1953-11-01 00:00:00, 1953-12-01 00:00:00, 1954-01-01 00:00:00, 1954-02-01 00:00:00, 1954-03-01 00:00:00, 1954-04-01 00:00:00, 1954-05-01 00:00:00, 1954-06-01 00:00:00, 1954-07-01 00:00:00, 1954-08-01 00:00:00, 1954-09-01 00:00:00, 1954-10-01 00:00:00, 1954-11-01 00:00:00, 1954-12-01 00:00:00, 1955-01-01 00:00:00, 1955-02-01 00:00:00, 1955-03-01 00:00:00, 1955-04-01 00:00:00, 1955-05-01 00:00:00, 1955-06-01 00:00:00, 1955-07-01 00:00:00, 1955-08-01 00:00:00, 1955-09-01 00:00:00, 1955-10-01 00:00:00, 1955-11-01 00:00:00, 1955-12-01 00:00:00, 1956-01-01 00:00:00, 1956-02-01 00:00:00, 1956-03-01 00:00:00, 1956-04-01 00:00:00, ...]\n",
              "\n",
              "[900 rows x 0 columns]"
            ]
          },
          "execution_count": 9,
          "metadata": {},
          "output_type": "execute_result"
        }
      ],
      "source": [
        "enso_new"
      ]
    },
    {
      "cell_type": "markdown",
      "metadata": {
        "id": "bu45isJ83QLA"
      },
      "source": [
        "Now, let's stuff the data into our array.  We can use the stack() command to take the 2D array and create a 1D column."
      ]
    },
    {
      "cell_type": "code",
      "execution_count": 10,
      "metadata": {
        "colab": {
          "base_uri": "https://localhost:8080/"
        },
        "id": "7_uQVU_Vrew1",
        "outputId": "99024edc-d0b7-4077-d03f-9d90cb65642f"
      },
      "outputs": [
        {
          "data": {
            "text/plain": [
              "900"
            ]
          },
          "execution_count": 10,
          "metadata": {},
          "output_type": "execute_result"
        }
      ],
      "source": [
        "len(enso.loc[:,1:].stack().values)"
      ]
    },
    {
      "cell_type": "code",
      "execution_count": 11,
      "metadata": {
        "id": "IVYoq7E23LFf"
      },
      "outputs": [],
      "source": [
        "enso_new['ENSO']=enso.loc[:,1:].stack().values"
      ]
    },
    {
      "cell_type": "markdown",
      "metadata": {
        "id": "_uLApMIi3Ymd"
      },
      "source": [
        "How does it look?"
      ]
    },
    {
      "cell_type": "code",
      "execution_count": 12,
      "metadata": {
        "colab": {
          "base_uri": "https://localhost:8080/",
          "height": 447
        },
        "id": "2ATZDtym3aeX",
        "outputId": "16d4c481-eecc-4917-96af-0c75cd855c75"
      },
      "outputs": [
        {
          "data": {
            "text/html": [
              "<div>\n",
              "<style scoped>\n",
              "    .dataframe tbody tr th:only-of-type {\n",
              "        vertical-align: middle;\n",
              "    }\n",
              "\n",
              "    .dataframe tbody tr th {\n",
              "        vertical-align: top;\n",
              "    }\n",
              "\n",
              "    .dataframe thead th {\n",
              "        text-align: right;\n",
              "    }\n",
              "</style>\n",
              "<table border=\"1\" class=\"dataframe\">\n",
              "  <thead>\n",
              "    <tr style=\"text-align: right;\">\n",
              "      <th></th>\n",
              "      <th>ENSO</th>\n",
              "    </tr>\n",
              "    <tr>\n",
              "      <th>Date</th>\n",
              "      <th></th>\n",
              "    </tr>\n",
              "  </thead>\n",
              "  <tbody>\n",
              "    <tr>\n",
              "      <th>1948-01-01</th>\n",
              "      <td>0.26</td>\n",
              "    </tr>\n",
              "    <tr>\n",
              "      <th>1948-02-01</th>\n",
              "      <td>0.43</td>\n",
              "    </tr>\n",
              "    <tr>\n",
              "      <th>1948-03-01</th>\n",
              "      <td>0.72</td>\n",
              "    </tr>\n",
              "    <tr>\n",
              "      <th>1948-04-01</th>\n",
              "      <td>0.21</td>\n",
              "    </tr>\n",
              "    <tr>\n",
              "      <th>1948-05-01</th>\n",
              "      <td>0.24</td>\n",
              "    </tr>\n",
              "    <tr>\n",
              "      <th>...</th>\n",
              "      <td>...</td>\n",
              "    </tr>\n",
              "    <tr>\n",
              "      <th>2022-08-01</th>\n",
              "      <td>-1.45</td>\n",
              "    </tr>\n",
              "    <tr>\n",
              "      <th>2022-09-01</th>\n",
              "      <td>-1.79</td>\n",
              "    </tr>\n",
              "    <tr>\n",
              "      <th>2022-10-01</th>\n",
              "      <td>-1.78</td>\n",
              "    </tr>\n",
              "    <tr>\n",
              "      <th>2022-11-01</th>\n",
              "      <td>-0.63</td>\n",
              "    </tr>\n",
              "    <tr>\n",
              "      <th>2022-12-01</th>\n",
              "      <td>-1.97</td>\n",
              "    </tr>\n",
              "  </tbody>\n",
              "</table>\n",
              "<p>900 rows × 1 columns</p>\n",
              "</div>"
            ],
            "text/plain": [
              "            ENSO\n",
              "Date            \n",
              "1948-01-01  0.26\n",
              "1948-02-01  0.43\n",
              "1948-03-01  0.72\n",
              "1948-04-01  0.21\n",
              "1948-05-01  0.24\n",
              "...          ...\n",
              "2022-08-01 -1.45\n",
              "2022-09-01 -1.79\n",
              "2022-10-01 -1.78\n",
              "2022-11-01 -0.63\n",
              "2022-12-01 -1.97\n",
              "\n",
              "[900 rows x 1 columns]"
            ]
          },
          "execution_count": 12,
          "metadata": {},
          "output_type": "execute_result"
        }
      ],
      "source": [
        "enso_new"
      ]
    },
    {
      "cell_type": "code",
      "execution_count": 13,
      "metadata": {
        "colab": {
          "base_uri": "https://localhost:8080/",
          "height": 317
        },
        "id": "nK9YJaHu3fRo",
        "outputId": "949cb584-101c-4e59-e8a6-4a2dba157e36"
      },
      "outputs": [
        {
          "data": {
            "text/plain": [
              "<Axes: xlabel='Date'>"
            ]
          },
          "execution_count": 13,
          "metadata": {},
          "output_type": "execute_result"
        },
        {
          "data": {
            "image/png": "[encoded data removed]",
            "text/plain": [
              "<Figure size 640x480 with 1 Axes>"
            ]
          },
          "metadata": {},
          "output_type": "display_data"
        }
      ],
      "source": [
        "enso_new.plot()"
      ]
    },
    {
      "cell_type": "markdown",
      "metadata": {
        "id": "RqWXOVh64slQ"
      },
      "source": [
        "## In-class exercise, do this for all of the 4 climate indicies.\n",
        "\n",
        "Be sure to check the date ranges of your indicies by carefully inspecting the dataframes!"
      ]
    },
    {
      "cell_type": "code",
      "execution_count": 14,
      "metadata": {
        "colab": {
          "base_uri": "https://localhost:8080/"
        },
        "id": "zWxDunG_4pBi",
        "outputId": "ba6a329e-3f07-469f-9022-89d79455fad2"
      },
      "outputs": [],
      "source": [
        "nao_new=pd.DataFrame()\n",
        "pdo_new=pd.DataFrame()\n",
        "ao_new=pd.DataFrame()\n",
        "\n",
        "nao_new['Date'] = pd.date_range(start=pd.Timestamp(1948,1,1),end=pd.Timestamp(2022,12,1),freq=\"MS\")\n",
        "pdo_new['Date'] = pd.date_range(start=pd.Timestamp(1948,1,1),end=pd.Timestamp(2022,12,1),freq=\"MS\")\n",
        "# ao_new['Date'] = pd.date_range(start=pd.Timestamp(1950,1,1),end=pd.Timestamp(2022,12,1),freq=\"MS\")\n",
        "\n",
        "nao_new = nao_new.set_index('Date')\n",
        "pdo_new = pdo_new.set_index('Date')\n",
        "# ao_new = ao_new.set_index('Date')\n",
        "\n",
        "nao_new['NAO']=nao.loc[:,1:].stack().values\n",
        "pdo_new['PDO']=pdo.loc[:,1:].stack().values\n",
        "# ao_new['AO']=ao.loc[:,1:].stack().values"
      ]
    },
    {
      "cell_type": "code",
      "execution_count": 15,
      "metadata": {},
      "outputs": [
        {
          "data": {
            "text/html": [
              "<div>\n",
              "<style scoped>\n",
              "    .dataframe tbody tr th:only-of-type {\n",
              "        vertical-align: middle;\n",
              "    }\n",
              "\n",
              "    .dataframe tbody tr th {\n",
              "        vertical-align: top;\n",
              "    }\n",
              "\n",
              "    .dataframe thead th {\n",
              "        text-align: right;\n",
              "    }\n",
              "</style>\n",
              "<table border=\"1\" class=\"dataframe\">\n",
              "  <thead>\n",
              "    <tr style=\"text-align: right;\">\n",
              "      <th></th>\n",
              "      <th>PDO</th>\n",
              "    </tr>\n",
              "    <tr>\n",
              "      <th>Date</th>\n",
              "      <th></th>\n",
              "    </tr>\n",
              "  </thead>\n",
              "  <tbody>\n",
              "    <tr>\n",
              "      <th>1948-01-01</th>\n",
              "      <td>-0.11</td>\n",
              "    </tr>\n",
              "    <tr>\n",
              "      <th>1948-02-01</th>\n",
              "      <td>-0.74</td>\n",
              "    </tr>\n",
              "    <tr>\n",
              "      <th>1948-03-01</th>\n",
              "      <td>-0.03</td>\n",
              "    </tr>\n",
              "    <tr>\n",
              "      <th>1948-04-01</th>\n",
              "      <td>-1.33</td>\n",
              "    </tr>\n",
              "    <tr>\n",
              "      <th>1948-05-01</th>\n",
              "      <td>-0.23</td>\n",
              "    </tr>\n",
              "    <tr>\n",
              "      <th>...</th>\n",
              "      <td>...</td>\n",
              "    </tr>\n",
              "    <tr>\n",
              "      <th>2022-08-01</th>\n",
              "      <td>-9.90</td>\n",
              "    </tr>\n",
              "    <tr>\n",
              "      <th>2022-09-01</th>\n",
              "      <td>-9.90</td>\n",
              "    </tr>\n",
              "    <tr>\n",
              "      <th>2022-10-01</th>\n",
              "      <td>-9.90</td>\n",
              "    </tr>\n",
              "    <tr>\n",
              "      <th>2022-11-01</th>\n",
              "      <td>-9.90</td>\n",
              "    </tr>\n",
              "    <tr>\n",
              "      <th>2022-12-01</th>\n",
              "      <td>-9.90</td>\n",
              "    </tr>\n",
              "  </tbody>\n",
              "</table>\n",
              "<p>900 rows × 1 columns</p>\n",
              "</div>"
            ],
            "text/plain": [
              "             PDO\n",
              "Date            \n",
              "1948-01-01 -0.11\n",
              "1948-02-01 -0.74\n",
              "1948-03-01 -0.03\n",
              "1948-04-01 -1.33\n",
              "1948-05-01 -0.23\n",
              "...          ...\n",
              "2022-08-01 -9.90\n",
              "2022-09-01 -9.90\n",
              "2022-10-01 -9.90\n",
              "2022-11-01 -9.90\n",
              "2022-12-01 -9.90\n",
              "\n",
              "[900 rows x 1 columns]"
            ]
          },
          "execution_count": 15,
          "metadata": {},
          "output_type": "execute_result"
        }
      ],
      "source": [
        "pdo_new"
      ]
    },
    {
      "cell_type": "code",
      "execution_count": 16,
      "metadata": {
        "colab": {
          "base_uri": "https://localhost:8080/",
          "height": 351
        },
        "id": "XAQ_cpZrjVvx",
        "outputId": "7f1851a0-0b41-4461-ad6f-33b593ff5b4f"
      },
      "outputs": [
        {
          "name": "stdout",
          "output_type": "stream",
          "text": [
            "%pylab is deprecated, use %matplotlib inline and import the required libraries.\n",
            "Populating the interactive namespace from numpy and matplotlib\n"
          ]
        },
        {
          "data": {
            "text/plain": [
              "(586.0, 600.0)"
            ]
          },
          "execution_count": 16,
          "metadata": {},
          "output_type": "execute_result"
        },
        {
          "data": {
            "image/png": "[encoded data removed]",
            "text/plain": [
              "<Figure size 640x480 with 1 Axes>"
            ]
          },
          "metadata": {},
          "output_type": "display_data"
        }
      ],
      "source": [
        "%pylab inline\n",
        "nao_new['NAO'].plot()\n",
        "plt.ylim([-3,3])\n",
        "plt.xlim(['11-01-2018','01-01-2020'])"
      ]
    },
    {
      "cell_type": "markdown",
      "metadata": {
        "id": "Ay3jfSBt5BtK"
      },
      "source": [
        "# Merging dataframes\n",
        "\n",
        "Now that we have these indicies, we can join them together into one dataset.  We can use the pd.merge() command to do this for each of our dataframes one by one.  We need to tell pandas how to do the merge, and we do that by specifying the left_index and right_index, where left and right are the data frames given first and second in the pd.merge command."
      ]
    },
    {
      "cell_type": "code",
      "execution_count": 17,
      "metadata": {
        "id": "b95J8eta49gq"
      },
      "outputs": [],
      "source": [
        "newdf_all = pd.merge(enso_new,pdo_new, left_index=True, right_index=True)"
      ]
    },
    {
      "cell_type": "code",
      "execution_count": 18,
      "metadata": {
        "colab": {
          "base_uri": "https://localhost:8080/",
          "height": 479
        },
        "id": "6nyjcGxMz0aR",
        "outputId": "6bc724e3-488f-4340-d4fc-01d03cec9e1e"
      },
      "outputs": [
        {
          "data": {
            "text/html": [
              "<div>\n",
              "<style scoped>\n",
              "    .dataframe tbody tr th:only-of-type {\n",
              "        vertical-align: middle;\n",
              "    }\n",
              "\n",
              "    .dataframe tbody tr th {\n",
              "        vertical-align: top;\n",
              "    }\n",
              "\n",
              "    .dataframe thead th {\n",
              "        text-align: right;\n",
              "    }\n",
              "</style>\n",
              "<table border=\"1\" class=\"dataframe\">\n",
              "  <thead>\n",
              "    <tr style=\"text-align: right;\">\n",
              "      <th></th>\n",
              "      <th>ENSO</th>\n",
              "      <th>PDO</th>\n",
              "    </tr>\n",
              "    <tr>\n",
              "      <th>Date</th>\n",
              "      <th></th>\n",
              "      <th></th>\n",
              "    </tr>\n",
              "  </thead>\n",
              "  <tbody>\n",
              "    <tr>\n",
              "      <th>1948-01-01</th>\n",
              "      <td>0.26</td>\n",
              "      <td>-0.11</td>\n",
              "    </tr>\n",
              "    <tr>\n",
              "      <th>1948-02-01</th>\n",
              "      <td>0.43</td>\n",
              "      <td>-0.74</td>\n",
              "    </tr>\n",
              "    <tr>\n",
              "      <th>1948-03-01</th>\n",
              "      <td>0.72</td>\n",
              "      <td>-0.03</td>\n",
              "    </tr>\n",
              "    <tr>\n",
              "      <th>1948-04-01</th>\n",
              "      <td>0.21</td>\n",
              "      <td>-1.33</td>\n",
              "    </tr>\n",
              "    <tr>\n",
              "      <th>1948-05-01</th>\n",
              "      <td>0.24</td>\n",
              "      <td>-0.23</td>\n",
              "    </tr>\n",
              "    <tr>\n",
              "      <th>...</th>\n",
              "      <td>...</td>\n",
              "      <td>...</td>\n",
              "    </tr>\n",
              "    <tr>\n",
              "      <th>2022-08-01</th>\n",
              "      <td>-1.45</td>\n",
              "      <td>-9.90</td>\n",
              "    </tr>\n",
              "    <tr>\n",
              "      <th>2022-09-01</th>\n",
              "      <td>-1.79</td>\n",
              "      <td>-9.90</td>\n",
              "    </tr>\n",
              "    <tr>\n",
              "      <th>2022-10-01</th>\n",
              "      <td>-1.78</td>\n",
              "      <td>-9.90</td>\n",
              "    </tr>\n",
              "    <tr>\n",
              "      <th>2022-11-01</th>\n",
              "      <td>-0.63</td>\n",
              "      <td>-9.90</td>\n",
              "    </tr>\n",
              "    <tr>\n",
              "      <th>2022-12-01</th>\n",
              "      <td>-1.97</td>\n",
              "      <td>-9.90</td>\n",
              "    </tr>\n",
              "  </tbody>\n",
              "</table>\n",
              "<p>900 rows × 2 columns</p>\n",
              "</div>"
            ],
            "text/plain": [
              "            ENSO   PDO\n",
              "Date                  \n",
              "1948-01-01  0.26 -0.11\n",
              "1948-02-01  0.43 -0.74\n",
              "1948-03-01  0.72 -0.03\n",
              "1948-04-01  0.21 -1.33\n",
              "1948-05-01  0.24 -0.23\n",
              "...          ...   ...\n",
              "2022-08-01 -1.45 -9.90\n",
              "2022-09-01 -1.79 -9.90\n",
              "2022-10-01 -1.78 -9.90\n",
              "2022-11-01 -0.63 -9.90\n",
              "2022-12-01 -1.97 -9.90\n",
              "\n",
              "[900 rows x 2 columns]"
            ]
          },
          "execution_count": 18,
          "metadata": {},
          "output_type": "execute_result"
        }
      ],
      "source": [
        "newdf_all"
      ]
    },
    {
      "cell_type": "code",
      "execution_count": 19,
      "metadata": {
        "colab": {
          "base_uri": "https://localhost:8080/",
          "height": 317
        },
        "id": "e1OcraIGi6ZZ",
        "outputId": "363f14f3-a4f3-4ffb-9e64-ab3db0b0d014"
      },
      "outputs": [
        {
          "name": "stderr",
          "output_type": "stream",
          "text": [
            "/var/folders/xk/1h2bmhd16677hq_kztjppff80000gn/T/ipykernel_8745/509043520.py:2: FutureWarning: ChainedAssignmentError: behaviour will change in pandas 3.0!\n",
            "You are setting values through chained assignment. Currently this works in certain cases, but when using Copy-on-Write (which will become the default behaviour in pandas 3.0) this will never work to update the original DataFrame or Series, because the intermediate object on which we are setting values will behave as a copy.\n",
            "A typical example is when you are setting values in a column of a DataFrame, like:\n",
            "\n",
            "df[\"col\"][row_indexer] = value\n",
            "\n",
            "Use `df.loc[row_indexer, \"col\"] = values` instead, to perform the assignment in a single step and ensure this keeps updating the original `df`.\n",
            "\n",
            "See the caveats in the documentation: https://pandas.pydata.org/pandas-docs/stable/user_guide/indexing.html#returning-a-view-versus-a-copy\n",
            "\n",
            "  newdf_all['PDO'][newdf_all['PDO'] <= -9.9] = np.nan\n"
          ]
        },
        {
          "data": {
            "text/plain": [
              "<Axes: xlabel='Date'>"
            ]
          },
          "execution_count": 19,
          "metadata": {},
          "output_type": "execute_result"
        },
        {
          "data": {
            "image/png": "[encoded data removed]",
            "text/plain": [
              "<Figure size 640x480 with 1 Axes>"
            ]
          },
          "metadata": {},
          "output_type": "display_data"
        }
      ],
      "source": [
        "import numpy as np\n",
        "newdf_all['PDO'][newdf_all['PDO'] <= -9.9] = np.nan\n",
        "newdf_all.plot()"
      ]
    },
    {
      "cell_type": "markdown",
      "metadata": {
        "id": "ObbExleB6taE"
      },
      "source": [
        "Rinse and repeat until all 4 columns are included in your new dataframe."
      ]
    },
    {
      "cell_type": "code",
      "execution_count": 20,
      "metadata": {},
      "outputs": [
        {
          "name": "stderr",
          "output_type": "stream",
          "text": [
            "/var/folders/xk/1h2bmhd16677hq_kztjppff80000gn/T/ipykernel_8745/4071224701.py:1: FutureWarning: ChainedAssignmentError: behaviour will change in pandas 3.0!\n",
            "You are setting values through chained assignment. Currently this works in certain cases, but when using Copy-on-Write (which will become the default behaviour in pandas 3.0) this will never work to update the original DataFrame or Series, because the intermediate object on which we are setting values will behave as a copy.\n",
            "A typical example is when you are setting values in a column of a DataFrame, like:\n",
            "\n",
            "df[\"col\"][row_indexer] = value\n",
            "\n",
            "Use `df.loc[row_indexer, \"col\"] = values` instead, to perform the assignment in a single step and ensure this keeps updating the original `df`.\n",
            "\n",
            "See the caveats in the documentation: https://pandas.pydata.org/pandas-docs/stable/user_guide/indexing.html#returning-a-view-versus-a-copy\n",
            "\n",
            "  newdf_all['ENSO'][newdf_all['ENSO'] <= -9.9] = np.nan\n"
          ]
        },
        {
          "data": {
            "text/plain": [
              "<Axes: xlabel='Date'>"
            ]
          },
          "execution_count": 20,
          "metadata": {},
          "output_type": "execute_result"
        },
        {
          "data": {
            "image/png": "[encoded data removed]",
            "text/plain": [
              "<Figure size 640x480 with 1 Axes>"
            ]
          },
          "metadata": {},
          "output_type": "display_data"
        }
      ],
      "source": [
        "newdf_all['ENSO'][newdf_all['ENSO'] <= -9.9] = np.nan\n",
        "newdf_all.plot()"
      ]
    },
    {
      "cell_type": "code",
      "execution_count": 21,
      "metadata": {
        "id": "KjkGutByz5gp"
      },
      "outputs": [
        {
          "name": "stderr",
          "output_type": "stream",
          "text": [
            "/var/folders/xk/1h2bmhd16677hq_kztjppff80000gn/T/ipykernel_8745/2116125693.py:2: FutureWarning: ChainedAssignmentError: behaviour will change in pandas 3.0!\n",
            "You are setting values through chained assignment. Currently this works in certain cases, but when using Copy-on-Write (which will become the default behaviour in pandas 3.0) this will never work to update the original DataFrame or Series, because the intermediate object on which we are setting values will behave as a copy.\n",
            "A typical example is when you are setting values in a column of a DataFrame, like:\n",
            "\n",
            "df[\"col\"][row_indexer] = value\n",
            "\n",
            "Use `df.loc[row_indexer, \"col\"] = values` instead, to perform the assignment in a single step and ensure this keeps updating the original `df`.\n",
            "\n",
            "See the caveats in the documentation: https://pandas.pydata.org/pandas-docs/stable/user_guide/indexing.html#returning-a-view-versus-a-copy\n",
            "\n",
            "  newdf_all['NAO'][newdf_all['NAO'] <= -99.9] = np.nan\n"
          ]
        }
      ],
      "source": [
        "newdf_all = pd.merge(newdf_all,nao_new, left_index=True, right_index=True)\n",
        "newdf_all['NAO'][newdf_all['NAO'] <= -99.9] = np.nan"
      ]
    },
    {
      "cell_type": "code",
      "execution_count": 23,
      "metadata": {
        "colab": {
          "base_uri": "https://localhost:8080/",
          "height": 317
        },
        "id": "qOYOKaCd60el",
        "outputId": "d183c93d-accb-4a88-c95e-2a6fe30a88a2"
      },
      "outputs": [
        {
          "ename": "KeyError",
          "evalue": "'AO'",
          "output_type": "error",
          "traceback": [
            "\u001b[0;31m---------------------------------------------------------------------------\u001b[0m",
            "\u001b[0;31mKeyError\u001b[0m                                  Traceback (most recent call last)",
            "File \u001b[0;32m~/opt/anaconda3/envs/pythia/lib/python3.12/site-packages/pandas/core/indexes/base.py:3802\u001b[0m, in \u001b[0;36mIndex.get_loc\u001b[0;34m(self, key)\u001b[0m\n\u001b[1;32m   3801\u001b[0m \u001b[38;5;28;01mtry\u001b[39;00m:\n\u001b[0;32m-> 3802\u001b[0m     \u001b[38;5;28;01mreturn\u001b[39;00m \u001b[38;5;28;43mself\u001b[39;49m\u001b[38;5;241;43m.\u001b[39;49m\u001b[43m_engine\u001b[49m\u001b[38;5;241;43m.\u001b[39;49m\u001b[43mget_loc\u001b[49m\u001b[43m(\u001b[49m\u001b[43mcasted_key\u001b[49m\u001b[43m)\u001b[49m\n\u001b[1;32m   3803\u001b[0m \u001b[38;5;28;01mexcept\u001b[39;00m \u001b[38;5;167;01mKeyError\u001b[39;00m \u001b[38;5;28;01mas\u001b[39;00m err:\n",
            "File \u001b[0;32mindex.pyx:153\u001b[0m, in \u001b[0;36mpandas._libs.index.IndexEngine.get_loc\u001b[0;34m()\u001b[0m\n",
            "File \u001b[0;32mindex.pyx:182\u001b[0m, in \u001b[0;36mpandas._libs.index.IndexEngine.get_loc\u001b[0;34m()\u001b[0m\n",
            "File \u001b[0;32mpandas/_libs/hashtable_class_helper.pxi:7081\u001b[0m, in \u001b[0;36mpandas._libs.hashtable.PyObjectHashTable.get_item\u001b[0;34m()\u001b[0m\n",
            "File \u001b[0;32mpandas/_libs/hashtable_class_helper.pxi:7089\u001b[0m, in \u001b[0;36mpandas._libs.hashtable.PyObjectHashTable.get_item\u001b[0;34m()\u001b[0m\n",
            "\u001b[0;31mKeyError\u001b[0m: 'AO'",
            "\nThe above exception was the direct cause of the following exception:\n",
            "\u001b[0;31mKeyError\u001b[0m                                  Traceback (most recent call last)",
            "Cell \u001b[0;32mIn[23], line 2\u001b[0m\n\u001b[1;32m      1\u001b[0m newdf_all \u001b[38;5;241m=\u001b[39m pd\u001b[38;5;241m.\u001b[39mmerge(newdf_all,ao_new, left_index\u001b[38;5;241m=\u001b[39m\u001b[38;5;28;01mTrue\u001b[39;00m, right_index\u001b[38;5;241m=\u001b[39m\u001b[38;5;28;01mTrue\u001b[39;00m)\n\u001b[0;32m----> 2\u001b[0m \u001b[43mnewdf_all\u001b[49m\u001b[43m[\u001b[49m\u001b[38;5;124;43m'\u001b[39;49m\u001b[38;5;124;43mAO\u001b[39;49m\u001b[38;5;124;43m'\u001b[39;49m\u001b[43m]\u001b[49m[newdf_all[\u001b[38;5;124m'\u001b[39m\u001b[38;5;124mAO\u001b[39m\u001b[38;5;124m'\u001b[39m] \u001b[38;5;241m<\u001b[39m\u001b[38;5;241m=\u001b[39m \u001b[38;5;241m-\u001b[39m\u001b[38;5;241m99.9\u001b[39m] \u001b[38;5;241m=\u001b[39m np\u001b[38;5;241m.\u001b[39mnan\n\u001b[1;32m      4\u001b[0m newdf_all\u001b[38;5;241m.\u001b[39mplot()\n",
            "File \u001b[0;32m~/opt/anaconda3/envs/pythia/lib/python3.12/site-packages/pandas/core/frame.py:4090\u001b[0m, in \u001b[0;36mDataFrame.__getitem__\u001b[0;34m(self, key)\u001b[0m\n\u001b[1;32m   4088\u001b[0m \u001b[38;5;28;01mif\u001b[39;00m \u001b[38;5;28mself\u001b[39m\u001b[38;5;241m.\u001b[39mcolumns\u001b[38;5;241m.\u001b[39mnlevels \u001b[38;5;241m>\u001b[39m \u001b[38;5;241m1\u001b[39m:\n\u001b[1;32m   4089\u001b[0m     \u001b[38;5;28;01mreturn\u001b[39;00m \u001b[38;5;28mself\u001b[39m\u001b[38;5;241m.\u001b[39m_getitem_multilevel(key)\n\u001b[0;32m-> 4090\u001b[0m indexer \u001b[38;5;241m=\u001b[39m \u001b[38;5;28;43mself\u001b[39;49m\u001b[38;5;241;43m.\u001b[39;49m\u001b[43mcolumns\u001b[49m\u001b[38;5;241;43m.\u001b[39;49m\u001b[43mget_loc\u001b[49m\u001b[43m(\u001b[49m\u001b[43mkey\u001b[49m\u001b[43m)\u001b[49m\n\u001b[1;32m   4091\u001b[0m \u001b[38;5;28;01mif\u001b[39;00m is_integer(indexer):\n\u001b[1;32m   4092\u001b[0m     indexer \u001b[38;5;241m=\u001b[39m [indexer]\n",
            "File \u001b[0;32m~/opt/anaconda3/envs/pythia/lib/python3.12/site-packages/pandas/core/indexes/base.py:3809\u001b[0m, in \u001b[0;36mIndex.get_loc\u001b[0;34m(self, key)\u001b[0m\n\u001b[1;32m   3804\u001b[0m     \u001b[38;5;28;01mif\u001b[39;00m \u001b[38;5;28misinstance\u001b[39m(casted_key, \u001b[38;5;28mslice\u001b[39m) \u001b[38;5;129;01mor\u001b[39;00m (\n\u001b[1;32m   3805\u001b[0m         \u001b[38;5;28misinstance\u001b[39m(casted_key, abc\u001b[38;5;241m.\u001b[39mIterable)\n\u001b[1;32m   3806\u001b[0m         \u001b[38;5;129;01mand\u001b[39;00m \u001b[38;5;28many\u001b[39m(\u001b[38;5;28misinstance\u001b[39m(x, \u001b[38;5;28mslice\u001b[39m) \u001b[38;5;28;01mfor\u001b[39;00m x \u001b[38;5;129;01min\u001b[39;00m casted_key)\n\u001b[1;32m   3807\u001b[0m     ):\n\u001b[1;32m   3808\u001b[0m         \u001b[38;5;28;01mraise\u001b[39;00m InvalidIndexError(key)\n\u001b[0;32m-> 3809\u001b[0m     \u001b[38;5;28;01mraise\u001b[39;00m \u001b[38;5;167;01mKeyError\u001b[39;00m(key) \u001b[38;5;28;01mfrom\u001b[39;00m \u001b[38;5;21;01merr\u001b[39;00m\n\u001b[1;32m   3810\u001b[0m \u001b[38;5;28;01mexcept\u001b[39;00m \u001b[38;5;167;01mTypeError\u001b[39;00m:\n\u001b[1;32m   3811\u001b[0m     \u001b[38;5;66;03m# If we have a listlike key, _check_indexing_error will raise\u001b[39;00m\n\u001b[1;32m   3812\u001b[0m     \u001b[38;5;66;03m#  InvalidIndexError. Otherwise we fall through and re-raise\u001b[39;00m\n\u001b[1;32m   3813\u001b[0m     \u001b[38;5;66;03m#  the TypeError.\u001b[39;00m\n\u001b[1;32m   3814\u001b[0m     \u001b[38;5;28mself\u001b[39m\u001b[38;5;241m.\u001b[39m_check_indexing_error(key)\n",
            "\u001b[0;31mKeyError\u001b[0m: 'AO'"
          ]
        }
      ],
      "source": [
        "# newdf_all = pd.merge(newdf_all,ao_new, left_index=True, right_index=True)\n",
        "# newdf_all['AO'][newdf_all['AO'] <= -99.9] = np.nan\n",
        "\n",
        "# newdf_all.plot()"
      ]
    },
    {
      "cell_type": "code",
      "execution_count": 24,
      "metadata": {
        "colab": {
          "base_uri": "https://localhost:8080/",
          "height": 479
        },
        "id": "A7ZdA_pArpyn",
        "outputId": "8e393c68-41a3-4fb9-c973-b8ffce5f93ab"
      },
      "outputs": [
        {
          "data": {
            "text/html": [
              "<div>\n",
              "<style scoped>\n",
              "    .dataframe tbody tr th:only-of-type {\n",
              "        vertical-align: middle;\n",
              "    }\n",
              "\n",
              "    .dataframe tbody tr th {\n",
              "        vertical-align: top;\n",
              "    }\n",
              "\n",
              "    .dataframe thead th {\n",
              "        text-align: right;\n",
              "    }\n",
              "</style>\n",
              "<table border=\"1\" class=\"dataframe\">\n",
              "  <thead>\n",
              "    <tr style=\"text-align: right;\">\n",
              "      <th></th>\n",
              "      <th>ENSO</th>\n",
              "      <th>PDO</th>\n",
              "      <th>NAO</th>\n",
              "    </tr>\n",
              "  </thead>\n",
              "  <tbody>\n",
              "  </tbody>\n",
              "</table>\n",
              "</div>"
            ],
            "text/plain": [
              "Empty DataFrame\n",
              "Columns: [ENSO, PDO, NAO]\n",
              "Index: []"
            ]
          },
          "execution_count": 24,
          "metadata": {},
          "output_type": "execute_result"
        }
      ],
      "source": [
        "newdf_all"
      ]
    },
    {
      "cell_type": "markdown",
      "metadata": {},
      "source": [
        "Let's plot them against each other\n"
      ]
    },
    {
      "cell_type": "code",
      "execution_count": 25,
      "metadata": {
        "colab": {
          "base_uri": "https://localhost:8080/",
          "height": 303
        },
        "id": "dZ_-36NCsnsP",
        "outputId": "e4e0b02c-803a-4c84-fc61-1e41d0ac6786"
      },
      "outputs": [
        {
          "data": {
            "text/plain": [
              "[<matplotlib.lines.Line2D at 0x1737894c0>]"
            ]
          },
          "execution_count": 25,
          "metadata": {},
          "output_type": "execute_result"
        },
        {
          "data": {
            "image/png": "[encoded data removed]",
            "text/plain": [
              "<Figure size 640x480 with 1 Axes>"
            ]
          },
          "metadata": {},
          "output_type": "display_data"
        }
      ],
      "source": [
        "\n",
        "plt.plot(newdf_all['ENSO'].values,newdf_all['PDO'].values,'.r')"
      ]
    },
    {
      "cell_type": "markdown",
      "metadata": {},
      "source": [
        "Or do it all together in one swoop."
      ]
    },
    {
      "cell_type": "code",
      "execution_count": 26,
      "metadata": {},
      "outputs": [
        {
          "ename": "ModuleNotFoundError",
          "evalue": "No module named 'seaborn'",
          "output_type": "error",
          "traceback": [
            "\u001b[0;31m---------------------------------------------------------------------------\u001b[0m",
            "\u001b[0;31mModuleNotFoundError\u001b[0m                       Traceback (most recent call last)",
            "Cell \u001b[0;32mIn[26], line 2\u001b[0m\n\u001b[1;32m      1\u001b[0m \u001b[38;5;66;03m# Seaborn visualization library\u001b[39;00m\n\u001b[0;32m----> 2\u001b[0m \u001b[38;5;28;01mimport\u001b[39;00m \u001b[38;5;21;01mseaborn\u001b[39;00m \u001b[38;5;28;01mas\u001b[39;00m \u001b[38;5;21;01msns\u001b[39;00m\n\u001b[1;32m      3\u001b[0m \u001b[38;5;66;03m# Create the default pairplot\u001b[39;00m\n\u001b[1;32m      4\u001b[0m sns\u001b[38;5;241m.\u001b[39mpairplot(newdf_all)\n",
            "\u001b[0;31mModuleNotFoundError\u001b[0m: No module named 'seaborn'"
          ]
        }
      ],
      "source": [
        "# Seaborn visualization library\n",
        "import seaborn as sns\n",
        "# Create the default pairplot\n",
        "sns.pairplot(newdf_all)\n"
      ]
    },
    {
      "cell_type": "markdown",
      "metadata": {
        "id": "OJQXcfM7sVua"
      },
      "source": [
        "Now let's bring in another dataset, the NASA GISS observed temperature record.  How does it match up with the climate indicies above?"
      ]
    },
    {
      "cell_type": "code",
      "execution_count": null,
      "metadata": {
        "id": "iYKHJ69prt75"
      },
      "outputs": [],
      "source": [
        "!wget https://data.giss.nasa.gov/pub/gistemp/gistemp250_GHCNv4.nc.gz"
      ]
    },
    {
      "cell_type": "code",
      "execution_count": null,
      "metadata": {
        "id": "VoGv3zJ0siOe"
      },
      "outputs": [],
      "source": [
        "%matplotlib inline\n",
        "import xarray as xr\n",
        "import pandas as pd\n",
        "import cartopy.crs as ccrs"
      ]
    },
    {
      "cell_type": "code",
      "execution_count": null,
      "metadata": {
        "id": "e6FisQy5smRN"
      },
      "outputs": [],
      "source": [
        "data = xr.open_dataset('gistemp250_GHCNv4.nc.gz')\n",
        "data\n",
        "   "
      ]
    },
    {
      "cell_type": "code",
      "execution_count": null,
      "metadata": {
        "id": "uSmOvYwztCWk"
      },
      "outputs": [],
      "source": [
        "ax = plt.axes(projection=ccrs.Orthographic(-80, 35))\n",
        "data['tempanomaly'].polyfit(dim='time',deg=1).isel(degree=1)['polyfit_coefficients'].plot(ax=ax, transform=ccrs.PlateCarree(), vmin=-0.5, vmax=0.5, cmap='RdBu_r')\n",
        "ax.set_global(); ax.coastlines(); ax.set_title('GISTEMPv4 temperature trend (deg/year)')"
      ]
    },
    {
      "cell_type": "markdown",
      "metadata": {
        "id": "Zh5gST5itR7R"
      },
      "source": [
        "Here we will introduce the sel command to find time and space subsets of our dataset.  Let's pull out the observed temperature trends at the point closest to Champaign-Urbana and examine the relationships with climate indicies."
      ]
    },
    {
      "cell_type": "code",
      "execution_count": null,
      "metadata": {
        "id": "ykEoxQ1HtN_8"
      },
      "outputs": [],
      "source": [
        "temp = pd.DataFrame()\n",
        "\n",
        "temp.index = data.time-pd.Timedelta(14, unit=\"D\")\n",
        "temp['obsT']=data['tempanomaly'].sel(lat=40.,lon=-88., method='nearest')\n",
        "\n",
        "newdf_all = pd.merge(newdf_all,temp,left_index=True, right_index=True)\n"
      ]
    },
    {
      "cell_type": "code",
      "execution_count": null,
      "metadata": {},
      "outputs": [],
      "source": [
        "temp"
      ]
    },
    {
      "cell_type": "code",
      "execution_count": null,
      "metadata": {},
      "outputs": [],
      "source": [
        "newdf_all"
      ]
    },
    {
      "cell_type": "markdown",
      "metadata": {
        "id": "hc4e_VdrtY91"
      },
      "source": [
        "Let's plot!"
      ]
    },
    {
      "cell_type": "code",
      "execution_count": null,
      "metadata": {
        "id": "VXtUB7xqvAOf"
      },
      "outputs": [],
      "source": [
        "%pylab inline\n",
        "import matplotlib as mpl\n",
        "\n",
        "cmap = cm.get_cmap('PiYG', 12)    # 11 discrete colors\n",
        "norm = mpl.colors.Normalize(vmin=1, vmax=13)\n",
        "\n",
        "fig, ((ax1, ax2), (ax3, ax4)) = plt.subplots(nrows=2, ncols=2, figsize=(11,11))\n",
        "\n",
        "ax1.scatter(newdf_all['ENSO'].values,newdf_all['obsT'].values,c=newdf_all.index.month,cmap=cmap,norm=norm)\n",
        "ax1.set_title('ENSO')\n",
        "ax1.set_xlabel('ENSO index')\n",
        "ax1.set_ylabel('Monthly GISTEMP anomaly')\n",
        "ax1.set_ylim([-10,10])\n",
        "ax1.set_xlim([-5,5])\n",
        "\n",
        "ax2.scatter(newdf_all['NAO'].values,newdf_all['obsT'].values,c=newdf_all.index.month,cmap=cmap,norm=norm)\n",
        "ax2.set_title('NAO')\n",
        "ax2.set_xlabel('NAO index')\n",
        "ax2.set_ylabel('Monthly GISTEMP anomaly')\n",
        "ax2.set_ylim([-10,10])\n",
        "ax2.set_xlim([-5,5])\n",
        "\n",
        "ax3.scatter(newdf_all['AO'].values,newdf_all['obsT'].values,c=newdf_all.index.month,cmap=cmap,norm=norm)\n",
        "ax3.set_title('AO')\n",
        "ax3.set_xlabel('AO index')\n",
        "ax3.set_ylabel('Monthly GISTEMP anomaly')\n",
        "ax3.set_ylim([-10,10])\n",
        "ax3.set_xlim([-5,5])\n",
        "\n",
        "\n",
        "im=ax4.scatter(newdf_all['PDO'].values,newdf_all['obsT'].values,c=newdf_all.index.month,cmap=cmap,norm=norm)\n",
        "ax4.set_title('PDO')\n",
        "ax4.set_xlabel('PDO index')\n",
        "ax4.set_ylabel('Monthly GISTEMP anomaly')\n",
        "ax4.set_ylim([-10,10])\n",
        "ax4.set_xlim([-5,5])\n",
        "\n",
        "#fig.subplots_adjust(right=0.8)\n",
        "cbar_ax = fig.add_axes([1.05, 0.15, 0.02, 0.7])\n",
        "cbar=fig.colorbar(im, cax=cbar_ax, ticks=1+np.arange(13), norm=norm)\n",
        "cbar.ax.set_yticklabels(['J','F','M','A','M','J','J','A','S','O','N','D',' '])  # vertically oriented colorbar\n",
        "\n",
        "plt.tight_layout()"
      ]
    },
    {
      "cell_type": "code",
      "execution_count": null,
      "metadata": {},
      "outputs": [],
      "source": []
    }
  ],
  "metadata": {
    "colab": {
      "collapsed_sections": [],
      "provenance": []
    },
    "kernelspec": {
      "display_name": "Python 3.9.7 ('py3')",
      "language": "python",
      "name": "python3"
    },
    "language_info": {
      "codemirror_mode": {
        "name": "ipython",
        "version": 3
      },
      "file_extension": ".py",
      "mimetype": "text/x-python",
      "name": "python",
      "nbconvert_exporter": "python",
      "pygments_lexer": "ipython3",
      "version": "3.12.1"
    },
    "vscode": {
      "interpreter": {
        "hash": "7a6b41cc1ffbe7f6292ade58ee9ab0c89bd7fa770a77f101cc95d5710b4e5fa9"
      }
    }
  },
  "nbformat": 4,
  "nbformat_minor": 0
}
